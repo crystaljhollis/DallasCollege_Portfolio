{
  "cells": [
    {
      "cell_type": "markdown",
      "id": "464b3493",
      "metadata": {},
      "source": [
        "<center><img src=\"./images/logo.png\" alt=\"drawing\" width=\"400\" style=\"background-color:white; padding:1em;\" /></center> <br/>\n",
        "\n",
        "# ML through Application\n",
        "## Module 3, Lab 1: Introduction to Fairness and Bias Mitigation in ML\n",
        "\n",
        "This is a no-code notebook with the goal to check your understanding of basic concepts and terminology that were introduced in the lecture.\n",
        "\n",
        "You will learn the following:\n",
        "\n",
        "- Definition of responsible AI\n",
        "- Dimensions of responsible AI\n",
        "- Where bias comes from\n",
        "\n",
        "----\n",
        "\n",
        "You will be presented with activities throughout the notebook: <br/>\n",
        "\n",
        "| <img style=\"float: center;\" src=\"./images/activity.png\" alt=\"Activity\" width=\"125\"/>| \n",
        "| --- | \n",
        "|<p style=\"text-align:center;\">No coding is needed for an activity. You try to understand a concept, <br/>answer questions, or run a code cell.</p>|"
      ]
    },
    {
      "cell_type": "markdown",
      "id": "24fc7a51",
      "metadata": {},
      "source": [
        "## Index\n",
        "\n",
        "- [Definitions of responsible AI](#Definitions-of-responsible-AI)\n",
        "- [Dimensions of responsible AI](#Dimensions-of-responsible-AI)\n",
        "- [Where does bias come from?](#Where-does-bias-come-from?)"
      ]
    },
    {
      "cell_type": "code",
      "execution_count": null,
      "id": "04d579a3",
      "metadata": {
        "tags": []
      },
      "outputs": [],
      "source": [
        "# Import the knowledge check questions\n",
        "from MLUMLA_EN_M3_Lab1_quiz_questions import *"
      ]
    },
    {
      "cell_type": "markdown",
      "id": "2b010299",
      "metadata": {},
      "source": [
        "---\n",
        "\n",
        "## Definitions of responsible AI\n",
        "\n",
        "In this section, you will review several ways to define responsible AI."
      ]
    },
    {
      "cell_type": "markdown",
      "id": "8b0bb524",
      "metadata": {},
      "source": [
        "<div style=\"border: 4px solid coral; text-align: center; margin: auto;\">\n",
        "    <h3><i>Try it yourself!</i></h3>\n",
        "    <br>\n",
        "    <p style=\"text-align:center;margin:auto;\"><img src=\"./images/activity.png\" alt=\"Activity\" width=\"100\" /> </p>\n",
        "    <p style=\" text-align: center; margin: auto;\">It's time to check your knowledge of how to define responsible AI. To load the questions, run the following cells.</p>\n",
        "    <br>\n",
        "</div>"
      ]
    },
    {
      "cell_type": "code",
      "execution_count": null,
      "id": "2e10a830",
      "metadata": {
        "tags": []
      },
      "outputs": [],
      "source": [
        "# Run this cell for a knowledge check question\n",
        "question_1"
      ]
    },
    {
      "cell_type": "code",
      "execution_count": null,
      "id": "230c0b86",
      "metadata": {
        "tags": []
      },
      "outputs": [],
      "source": [
        "# Run this cell for a knowledge check question\n",
        "question_2"
      ]
    },
    {
      "cell_type": "markdown",
      "id": "de5bd6c6",
      "metadata": {},
      "source": [
        "---\n",
        "\n",
        "## Dimensions of responsible AI\n",
        "\n",
        "Responsible AI can describe an organizational structure, principles, and practice that support the design, build, and operation of AI systems that maximize benefits while minimizing risks and unintended impact.\n",
        "\n",
        "In this section, you will review some of these principles."
      ]
    },
    {
      "cell_type": "markdown",
      "id": "148a97da",
      "metadata": {},
      "source": [
        "<div style=\"border: 4px solid coral; text-align: center; margin: auto;\">\n",
        "    <h3><i>Try it yourself!</i></h3>\n",
        "    <br>\n",
        "    <p style=\"text-align:center;margin:auto;\"><img src=\"./images/activity.png\" alt=\"Activity\" width=\"100\" /> </p>\n",
        "    <p style=\" text-align: center; margin: auto;\">It's time to check your knowledge of the dimensions of responsible AI. To load the questions, run the following cells.</p>\n",
        "    <br>\n",
        "</div>"
      ]
    },
    {
      "cell_type": "code",
      "execution_count": null,
      "id": "f5ceb6e9",
      "metadata": {
        "tags": []
      },
      "outputs": [],
      "source": [
        "# Run this cell for a knowledge check question\n",
        "question_3"
      ]
    },
    {
      "cell_type": "code",
      "execution_count": null,
      "id": "216ab100",
      "metadata": {
        "tags": []
      },
      "outputs": [],
      "source": [
        "# Run this cell for a knowledge check question\n",
        "question_4"
      ]
    },
    {
      "cell_type": "code",
      "execution_count": null,
      "id": "fd256018",
      "metadata": {
        "tags": []
      },
      "outputs": [],
      "source": [
        "# Run this cell for a knowledge check question\n",
        "question_5"
      ]
    },
    {
      "cell_type": "code",
      "execution_count": null,
      "id": "aa2ce71a",
      "metadata": {
        "tags": []
      },
      "outputs": [],
      "source": [
        "# Run this cell for a knowledge check question\n",
        "question_6"
      ]
    },
    {
      "cell_type": "code",
      "execution_count": null,
      "id": "49a2712d",
      "metadata": {
        "tags": []
      },
      "outputs": [],
      "source": [
        "# Run this cell for a knowledge check question\n",
        "question_7"
      ]
    },
    {
      "cell_type": "code",
      "execution_count": null,
      "id": "b8d8b7e9",
      "metadata": {
        "tags": []
      },
      "outputs": [],
      "source": [
        "# Run this cell for a knowledge check question\n",
        "question_8"
      ]
    },
    {
      "cell_type": "markdown",
      "id": "797be428",
      "metadata": {},
      "source": [
        "---\n",
        "\n",
        "## Where does bias come from?\n",
        "\n",
        "In this section, you will review hypothetical scenarios that can put researchers and organizations at risk of introducing bias to ML models and AI systems."
      ]
    },
    {
      "cell_type": "markdown",
      "id": "f1ae3ae5",
      "metadata": {},
      "source": [
        "<div style=\"border: 4px solid coral; text-align: center; margin: auto;\">\n",
        "    <h3><i>Try it yourself!</i></h3>\n",
        "    <br>\n",
        "    <p style=\"text-align:center;margin:auto;\"><img src=\"./images/activity.png\" alt=\"Activity\" width=\"100\" /> </p>\n",
        "    <p style=\" text-align: center; margin: auto;\">It's time to check your knowledge of where bias comes from.</p>\n",
        "    <p style=\" text-align: center; margin: auto;\">For each of the following scenarios, read the scenario and then run the cell after the scenario to load the question.</p>\n",
        "    <br>\n",
        "</div>"
      ]
    },
    {
      "cell_type": "markdown",
      "id": "85da2162",
      "metadata": {},
      "source": [
        "#### Scenario: Bias in computer vision\n",
        "\n",
        "A scientist is collecting image data to build a smile-detection application. To be frugal, they start by taking their own picture in different light with different resolutions and from different angles. After days of taking pictures, they only have 1,000 pictures. Because they know that computer vision models require a lot of data, they ask their family and friends for pictures to grow the dataset.\n",
        "\n",
        "__In this scenario, what bias could the resulting application exhibit?__"
      ]
    },
    {
      "cell_type": "code",
      "execution_count": null,
      "id": "9160d592",
      "metadata": {
        "tags": []
      },
      "outputs": [],
      "source": [
        "# Run this cell for a knowledge check question\n",
        "question_9"
      ]
    },
    {
      "cell_type": "markdown",
      "id": "19348747",
      "metadata": {},
      "source": [
        "#### Scenario: Who should become CEO?\n",
        "\n",
        "A tech company is trying to rank potential CEO candidates. To build their ranking model, they look at the list of Fortune 500 CEOs and extract attributes of those CEOs. They even extract features from shareholder letters that the CEOs wrote to find out what makes a leader successful.\n",
        "\n",
        "__In this scenario, what hiring bias the company be showing?__"
      ]
    },
    {
      "cell_type": "code",
      "execution_count": null,
      "id": "2ca2be69",
      "metadata": {
        "tags": []
      },
      "outputs": [],
      "source": [
        "# Run this cell for a knowledge check question\n",
        "question_10"
      ]
    },
    {
      "cell_type": "markdown",
      "id": "c3b1c003",
      "metadata": {},
      "source": [
        "#### Scenario: Bookworms\n",
        "\n",
        "A student built an app to improve reading speed. They interviewed students on their campus and set up a website for people from all over the world to share information about their reading behavior and characteristics. Finally, the student has collected enough information and is ready to explore the data. They notice that 1 percent of the records are from people who said that they read about 300 books per year. The student, who is an avid reader, decides to discard these data points, thinking they are typos or mistakes because the student reads only as many as 50 books per year.\n",
        "\n",
        "__In this scenario, what kind of bias does the student show?__"
      ]
    },
    {
      "cell_type": "code",
      "execution_count": null,
      "id": "69151af0",
      "metadata": {},
      "outputs": [],
      "source": [
        "# Run this cell for a knowledge check question\n",
        "question_11"
      ]
    },
    {
      "cell_type": "markdown",
      "id": "16c9f85c",
      "metadata": {},
      "source": [
        "----\n",
        "## Conclusion\n",
        "\n",
        "Responsible AI is an emerging domain, and the term can be defined in different ways. To work with responsible AI in practice, you need guiding principles that you can implement as part of the ML project design and life cycle.\n",
        "\n",
        "Bias has many sources. You should always assume that some type of bias impacts your project.\n",
        "\n",
        "## Next lab\n",
        "In the next lab, you will practice how to measure bias in data and apply various measures of bias quantification (accuracy difference, difference in proportion of labels)."
      ]
    }
  ],
  "metadata": {
    "kernelspec": {
      "display_name": "conda_pytorch_p310",
      "language": "python",
      "name": "conda_pytorch_p310"
    },
    "language_info": {
      "codemirror_mode": {
        "name": "ipython",
        "version": 3
      },
      "file_extension": ".py",
      "mimetype": "text/x-python",
      "name": "python",
      "nbconvert_exporter": "python",
      "pygments_lexer": "ipython3",
      "version": "3.10.10"
    },
    "toc": {
      "base_numbering": 1,
      "nav_menu": {},
      "number_sections": true,
      "sideBar": true,
      "skip_h1_title": false,
      "title_cell": "Table of Contents",
      "title_sidebar": "Contents",
      "toc_cell": false,
      "toc_position": {},
      "toc_section_display": true,
      "toc_window_display": true
    },
    "vscode": {
      "interpreter": {
        "hash": "aee8b7b246df8f9039afb4144a1f6fd8d2ca17a180786b69acc140d282b71a49"
      }
    }
  },
  "nbformat": 4,
  "nbformat_minor": 5
}
