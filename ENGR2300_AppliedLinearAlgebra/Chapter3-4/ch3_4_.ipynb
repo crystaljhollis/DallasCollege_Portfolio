{
 "cells": [
  {
   "cell_type": "code",
   "execution_count": null,
   "id": "initial_id",
   "metadata": {
    "collapsed": true
   },
   "outputs": [],
   "source": [
    "# ENGR 2300 Applied Linear Algebra\n",
    "# Chapter 3.4 Applications of Determinants - Notes\n",
    "# Crystal J. Hollis 3/23/2025"
   ]
  },
  {
   "metadata": {},
   "cell_type": "markdown",
   "source": [
    "Chapter 3.4: Applications of Determinants - Notes\n",
    "\n",
    "**Source:**\n",
    "Dweik, B. (2025). Applied Linear Algebra: Determinants [Lecture]. ENGR 2300 - Applied Linear Algebra, Dallas College.\n",
    "\n",
    "Larson, R. (2017). *Elementary Linear Algebra* (8th ed.). Cengage Learning.\n",
    "\n",
    "---\n",
    "\n",
    "## Chapter 3.4 Video Resources\n",
    "- Textbook: https://www.larsonlinearalgebra.com/ela8e/content/instructional-videos/chapter-3/section-4/\n",
    "- Gilbert Eyabi:\n",
    "    - Determinants: https://www.youtube.com/watch?v=9ftZ6Efchvc&ab_channel=GilbertEyabi\n",
    "    - Determinant and Elementary Operations: https://www.youtube.com/watch?v=TVcLHoHKa1M&ab_channel=GilbertEyabi\n",
    "    - Properties of Determinants: https://www.youtube.com/watch?v=cSkXkDDZxuo&ab_channel=GilbertEyabi\n",
    "- Trefor Bazett:\n",
    "    - Determinants - a \"quick\" computation to tell if a matrix is invertible: https://www.youtube.com/watch?v=FMqV8GZFqzQ&ab_channel=Dr.TreforBazett\n",
    "    - Determinants can be computed along any row or column - choose the easiest! : https://www.youtube.com/watch?v=-vZPtT1PVX8&ab_channel=Dr.TreforBazett\n",
    "\n",
    "---\n",
    "\n",
    "## Chapter 3.4 Objectives\n",
    "- Find the adjoint of a matrix and use it to find the inverse of the matrix.\n",
    "- Use Cramer's Rule to solve a system of *n* linear equations in *n* variables.\n",
    "- Use determinants to find area, volume, and the equations of lines and planes.\n",
    "\n",
    "---\n"
   ],
   "id": "37946fbdbafd3456"
  }
 ],
 "metadata": {
  "kernelspec": {
   "display_name": "Python 3",
   "language": "python",
   "name": "python3"
  },
  "language_info": {
   "codemirror_mode": {
    "name": "ipython",
    "version": 2
   },
   "file_extension": ".py",
   "mimetype": "text/x-python",
   "name": "python",
   "nbconvert_exporter": "python",
   "pygments_lexer": "ipython2",
   "version": "2.7.6"
  }
 },
 "nbformat": 4,
 "nbformat_minor": 5
}
